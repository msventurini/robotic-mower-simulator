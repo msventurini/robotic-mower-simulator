{
 "cells": [
  {
   "cell_type": "code",
   "execution_count": 6,
   "id": "7c205a83",
   "metadata": {},
   "outputs": [
    {
     "data": {
      "text/plain": [
       "<module 'tachytools' from 'd:\\\\Mestrado\\\\Dissertacao_Mestrado\\\\mestrado-rust\\\\Hulls\\\\tachytools.py'>"
      ]
     },
     "execution_count": 6,
     "metadata": {},
     "output_type": "execute_result"
    }
   ],
   "source": [
    "# Import standard libraries for data manipulation\n",
    "import pandas as pd  # For data handling and analysis\n",
    "import sys          # For system-specific parameters and functions\n",
    "import os           # For operating system dependent functionality\n",
    "import numpy as np  # For numerical operations and array handling\n",
    "import matplotlib.pyplot as plt  # For plotting and image creation\n",
    "from matplotlib.path import Path  # For polygon operations\n",
    "from matplotlib.patches import PathPatch  # For creating filled polygons\n",
    "\n",
    "# Add current directory to system path to allow importing custom modules\n",
    "sys.path.append(os.path.abspath('.'))\n",
    "\n",
    "import xml.etree.ElementTree as ET\n"
   ]
  },
  {
   "cell_type": "code",
   "execution_count": 11,
   "id": "6b1cfe44",
   "metadata": {},
   "outputs": [],
   "source": [
    "def load_xml(xml_file):\n",
    "    \"\"\"\n",
    "    Load coordinates from XML file with option to include Z data.\n",
    "    \n",
    "    Parameters:\n",
    "    xml_file: Path to the XML file\n",
    "    rotate: Rotation angle in degrees (default: 0)\n",
    "    mirror: Whether to mirror points over y-axis (default: False)\n",
    "    remove_tachy_point: Whether to remove the last point (default: True)\n",
    "    drop_points: Number of points to drop from the beginning (default: False)\n",
    "    include_z: Whether to include Z coordinates in the return values (default: False)\n",
    "    \n",
    "    Returns:\n",
    "    If include_z is False: x_data, y_data, timestamp (original behavior)\n",
    "    If include_z is True: x_data, y_data, z_data, timestamp\n",
    "    \"\"\"\n",
    "    # XML-Datei parsen\n",
    "    tree = ET.parse(xml_file)\n",
    "    root = tree.getroot()\n",
    "    x_data = []\n",
    "    y_data = []\n",
    "\n",
    "    # Namespace-Definition für das XML-Parsing\n",
    "    ns = {'landxml': 'http://www.landxml.org/schema/LandXML-1.2'}\n",
    "\n",
    "    for cgpoint in root.findall('.//landxml:CgPoint', ns):\n",
    "        coords = cgpoint.text.split()\n",
    "        x_data.append(float(coords[0]))  # x-Koordinate\n",
    "        y_data.append(float(coords[1]))  # y-Koordinate\n",
    "    \n",
    "    df = pd.DataFrame({'x_data': x_data, 'y_data': y_data})\n",
    "\n",
    "    return df"
   ]
  },
  {
   "cell_type": "code",
   "execution_count": 7,
   "id": "9364c699",
   "metadata": {},
   "outputs": [],
   "source": [
    "def save_hull_image(hull_df, physical_cell_size, output_path):\n",
    "    \"\"\"\n",
    "    Create a black and white image from hull coordinates in a pandas DataFrame.\n",
    "    \n",
    "    Parameters:\n",
    "    hull_df (pd.DataFrame): DataFrame containing 'x_data' and 'y_data' columns with coordinates\n",
    "    physical_cell_size (float): Physical size each pixel represents in meters\n",
    "    output_path (str): Path where the image will be saved\n",
    "    \"\"\"\n",
    "    # Extract coordinates from the DataFrame\n",
    "    x_coords = hull_df['x_data'].values\n",
    "    y_coords = hull_df['y_data'].values\n",
    "    \n",
    "    # Find the bounds of the data and shift to start at origin\n",
    "    x_min, x_max = x_coords.min(), x_coords.max()\n",
    "    y_min, y_max = y_coords.min(), y_coords.max()\n",
    "    \n",
    "    # Shift coordinates so minimum values start at 0\n",
    "    x_shifted = x_coords - x_min\n",
    "    y_shifted = y_coords - y_min\n",
    "    \n",
    "    # Calculate image dimensions in pixels\n",
    "    width_pixels = int(np.ceil((x_max - x_min) / physical_cell_size))\n",
    "    height_pixels = int(np.ceil((y_max - y_min) / physical_cell_size))\n",
    "    \n",
    "    # Create a black image (0 = black)\n",
    "    image = np.zeros((height_pixels, width_pixels))\n",
    "    \n",
    "    # Create a path from the hull coordinates (shifted to start at origin)\n",
    "    hull_coords = list(zip(x_shifted / physical_cell_size, y_shifted / physical_cell_size))\n",
    "    hull_path = Path(hull_coords)\n",
    "    \n",
    "    # Create a grid of pixel coordinates\n",
    "    x_grid, y_grid = np.meshgrid(np.arange(width_pixels), np.arange(height_pixels))\n",
    "    points = np.column_stack((x_grid.ravel(), y_grid.ravel()))\n",
    "    \n",
    "    # Check which points are inside the hull\n",
    "    inside_hull = hull_path.contains_points(points)\n",
    "    inside_hull = inside_hull.reshape(height_pixels, width_pixels)\n",
    "    \n",
    "    # Set inside points to white (1 = white)\n",
    "    image[inside_hull] = 1\n",
    "    \n",
    "    # Create figure without axes, legends, or any decorations\n",
    "    fig, ax = plt.subplots(figsize=(width_pixels/100, height_pixels/100), dpi=100)\n",
    "    ax.imshow(image, cmap='gray', origin='lower', extent=[0, width_pixels, 0, height_pixels])\n",
    "    \n",
    "    # Remove all axes, ticks, labels, and whitespace\n",
    "    ax.set_xlim(0, width_pixels)\n",
    "    ax.set_ylim(0, height_pixels)\n",
    "    ax.axis('off')\n",
    "    plt.subplots_adjust(left=0, right=1, top=1, bottom=0)\n",
    "    \n",
    "    # Save the image\n",
    "    plt.savefig(output_path, bbox_inches='tight', pad_inches=0, dpi=100, facecolor='black')\n",
    "    plt.close()\n",
    "    \n",
    "    print(f\"Hull image saved to: {output_path}\")\n",
    "    print(f\"Image dimensions: {width_pixels} x {height_pixels} pixels\")\n",
    "    print(f\"Physical area covered: {(x_max-x_min):.2f} x {(y_max-y_min):.2f} meters\")\n"
   ]
  },
  {
   "cell_type": "code",
   "execution_count": 8,
   "id": "2ee0f389",
   "metadata": {},
   "outputs": [
    {
     "name": "stdout",
     "output_type": "stream",
     "text": [
      "Output directory ready: ./output_files\n"
     ]
    }
   ],
   "source": [
    "xml_folder = \"./xml_files\"  # Directory containing XML files with tachymeter data\n",
    "output_folder = \"./output_files\"  # Directory to save output files\n",
    "physical_cell_size = 0.01 # Physical size of the cell in meters. Each pixel represents this size.\n",
    "\n",
    "# Create output directory if it doesn't exist\n",
    "os.makedirs(output_folder, exist_ok=True)\n",
    "print(f\"Output directory ready: {output_folder}\")"
   ]
  },
  {
   "cell_type": "code",
   "execution_count": 12,
   "id": "f1a822d7",
   "metadata": {},
   "outputs": [
    {
     "name": "stdout",
     "output_type": "stream",
     "text": [
      "Hull image saved to: ./output_files\\2024_kress_ti_hull.png\n",
      "Image dimensions: 1352 x 2118 pixels\n",
      "Physical area covered: 13.51 x 21.17 meters\n",
      "Processed: 2024_kress_ti.xml -> 2024_kress_ti_hull.png\n"
     ]
    }
   ],
   "source": [
    "for xml_file in os.listdir(xml_folder):\n",
    "    if xml_file.endswith('.xml'):\n",
    "        # Construct full path to the XML file\n",
    "        xml_path = os.path.join(xml_folder, xml_file)\n",
    "        \n",
    "        # Process the XML file to extract tachymeter data\n",
    "        df = load_xml(xml_path)\n",
    "        \n",
    "        # Define the output file path based on the XML file name\n",
    "        base_name = os.path.splitext(xml_file)[0]\n",
    "        output_path = os.path.join(output_folder, f\"{base_name}_hull.png\")\n",
    "        \n",
    "        # Create the hull image\n",
    "        save_hull_image(df, physical_cell_size, output_path)\n",
    "        \n",
    "        print(f\"Processed: {xml_file} -> {base_name}_hull.png\")\n"
   ]
  }
 ],
 "metadata": {
  "kernelspec": {
   "display_name": "Python 3",
   "language": "python",
   "name": "python3"
  },
  "language_info": {
   "codemirror_mode": {
    "name": "ipython",
    "version": 3
   },
   "file_extension": ".py",
   "mimetype": "text/x-python",
   "name": "python",
   "nbconvert_exporter": "python",
   "pygments_lexer": "ipython3",
   "version": "3.11.9"
  }
 },
 "nbformat": 4,
 "nbformat_minor": 5
}
